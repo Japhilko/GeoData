{
 "cells": [
  {
   "cell_type": "code",
   "execution_count": 4,
   "metadata": {
    "collapsed": false
   },
   "outputs": [
    {
     "ename": "ERROR",
     "evalue": "Error in chooseCRANmirror(): cannot choose a CRAN mirror non-interactively\n",
     "output_type": "error",
     "traceback": [
      "Error in chooseCRANmirror(): cannot choose a CRAN mirror non-interactively\n"
     ]
    }
   ],
   "source": [
    "install.packages(\"hgl\", repos=\"http://cran.us.r-project.org\")\n"
   ]
  }
 ],
 "metadata": {
  "kernelspec": {
   "display_name": "R",
   "language": "R",
   "name": "ir"
  },
  "language_info": {
   "codemirror_mode": "r",
   "file_extension": ".r",
   "mimetype": "text/x-r-source",
   "name": "R",
   "pygments_lexer": "r",
   "version": "3.1.3"
  }
 },
 "nbformat": 4,
 "nbformat_minor": 0
}
